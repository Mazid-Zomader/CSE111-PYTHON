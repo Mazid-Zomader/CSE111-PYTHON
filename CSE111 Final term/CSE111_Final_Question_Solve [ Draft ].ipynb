{
 "cells": [
  {
   "cell_type": "markdown",
   "metadata": {},
   "source": [
    "**Fall 2022**"
   ]
  },
  {
   "cell_type": "markdown",
   "metadata": {},
   "source": [
    "***Set-A***"
   ]
  },
  {
   "cell_type": "markdown",
   "metadata": {},
   "source": [
    "**Task 01**"
   ]
  },
  {
   "cell_type": "code",
   "execution_count": 1,
   "metadata": {},
   "outputs": [
    {
     "name": "stdout",
     "output_type": "stream",
     "text": [
      "==========1==========\n",
      "<__main__.Netflix object at 0x000002875915B590>\n",
      "Wednesday\n"
     ]
    }
   ],
   "source": [
    "class Netflix :\n",
    "    total = 0\n",
    "    name = []\n",
    "    def __init__(self , name , genre , epis = 10 ) :\n",
    "        self.name = name\n",
    "        self.genre = \",\".join(genre)\n",
    "        self.episode = epis\n",
    "        #return (f\"Show name: {self.name}\\nEpisodes: {self.episode}\\nGenre: {self.genre}\")\n",
    "    \n",
    "#Driver Code\n",
    "s1 = Netflix(\"Wednesday\",[\"Mystery\",\"Supernatural\"],15) \n",
    "print(\"==========1==========\") \n",
    "print(s1)"
   ]
  },
  {
   "cell_type": "markdown",
   "metadata": {},
   "source": [
    "**Spring 2023**"
   ]
  },
  {
   "cell_type": "markdown",
   "metadata": {},
   "source": [
    "***Set-A***"
   ]
  },
  {
   "cell_type": "markdown",
   "metadata": {},
   "source": [
    "**Question-02**"
   ]
  },
  {
   "cell_type": "code",
   "execution_count": 15,
   "metadata": {},
   "outputs": [
    {
     "name": "stdout",
     "output_type": "stream",
     "text": [
      "===============1=============\n",
      "The Gulshan branch if Chef's Counter is open for reservation!\n",
      "===============2=============\n",
      "===============3=============\n",
      "Customers who reserved in Gulshan branch:\n",
      "Sam, Paul\n",
      "===============4=============\n",
      "Sorry Robert, 5 already made a reservation in this branch\n",
      "===============5=============\n",
      "Customers who reserved in Gulshan branch:\n",
      "Sam, Paul, John, Robin, Billy\n",
      "===============6=============\n",
      "The Dhanmondi branch if Chef's Counter is open for reservation!\n",
      "===============7=============\n",
      "===============8=============\n",
      "Customers who reserved in Dhanmondi branch:\n",
      "Ben, Alice, Fred\n",
      "===============9=============\n",
      "Sorry Taylor, 7 already made a reservation in this branch\n",
      "===============10=============\n",
      "Customers who reserved in Dhanmondi branch:\n",
      "Ben, Alice, Fred, Tom, Ken, Garet, Miles\n",
      "===============11=============\n",
      "The 100 feet branch if Chef's Counter is open for reservation!\n",
      "===============12=============\n",
      "===============13=============\n",
      "Customers who reserved in 100 feet branch:\n",
      "Harry, Bob, Jenny\n",
      "===============14=============\n",
      "Reservation Information of All Branches: {'Gulshan': ['Sam', 'Paul', 'John', 'Robin', 'Billy'], 'Dhanmondi': ['Ben', 'Alice', 'Fred', 'Tom', 'Ken', 'Garet', 'Miles'], '100 feet': ['Harry', 'Bob', 'Jenny']}\n"
     ]
    }
   ],
   "source": [
    "class ChefsCounter:\n",
    "    reservation = {}\n",
    "    def __init__(self, branch , capacity = 5) :\n",
    "        self.branch_name = branch\n",
    "        self.capacity = capacity\n",
    "        self.count = 0\n",
    "        print(f\"The {self.branch_name} branch if Chef's Counter is open for reservation!\")\n",
    "    def reserve(self , *args) :\n",
    "        if self.branch_name in ChefsCounter.reservation.keys() :\n",
    "            for index in args :\n",
    "                self.count += 1\n",
    "                if self.count <= self.capacity :\n",
    "                    ChefsCounter.reservation[self.branch_name].append(index)\n",
    "                else :\n",
    "                    print(f\"Sorry {index}, {self.capacity} already made a reservation in this branch\")\n",
    "\n",
    "        else :\n",
    "            ChefsCounter.reservation[self.branch_name] = []\n",
    "            for index in args :\n",
    "                self.count += 1\n",
    "                if self.count <= self.capacity :\n",
    "                    ChefsCounter.reservation[self.branch_name].append(index)\n",
    "                else :\n",
    "                    print(f\"Sorry {index}, {self.capacity} already made a reservation in this branch\")\n",
    "    def reservation_info(self) :\n",
    "        print(f\"Customers who reserved in {self.branch_name} branch:\\n{\", \".join(ChefsCounter.reservation[self.branch_name])}\")\n",
    "    @classmethod\n",
    "    def createNewBranch(cls , name ) :\n",
    "        return ChefsCounter(name)\n",
    "\n",
    "#Driver Code\n",
    "print(\"===============1=============\") \n",
    "branch1 = ChefsCounter(\"Gulshan\") \n",
    "print(\"===============2=============\")\n",
    "branch1.reserve(\"Sam\", \"Paul\")\n",
    "print(\"===============3=============\") \n",
    "branch1.reservation_info()\n",
    "print(\"===============4=============\")\n",
    "branch1.reserve(\"John\", \"Robin\", \"Billy\", \"Robert\") \n",
    "print(\"===============5=============\") \n",
    "branch1.reservation_info()\n",
    "print(\"===============6=============\") \n",
    "branch2 = ChefsCounter(\"Dhanmondi\",7) \n",
    "print(\"===============7=============\") \n",
    "branch2.reserve(\"Ben\", \"Alice\", \"Fred\")\n",
    "print(\"===============8=============\") \n",
    "branch2.reservation_info() \n",
    "print(\"===============9=============\") \n",
    "branch2.reserve(\"Tom\", \"Ken\", \"Garet\", \"Miles\", \"Taylor\") \n",
    "print(\"===============10=============\") \n",
    "branch2.reservation_info() \n",
    "print(\"===============11=============\")\n",
    "branch3 = ChefsCounter.createNewBranch(\"100 feet\") \n",
    "print(\"===============12=============\") \n",
    "branch3.reserve(\"Harry\", \"Bob\", \"Jenny\") \n",
    "print(\"===============13=============\") \n",
    "branch3.reservation_info() \n",
    "print(\"===============14=============\")\n",
    "print(\"Reservation Information of All Branches:\",ChefsCounter.reservation)"
   ]
  },
  {
   "cell_type": "markdown",
   "metadata": {},
   "source": [
    "**Summer 2022**"
   ]
  },
  {
   "cell_type": "markdown",
   "metadata": {},
   "source": [
    "***Set-A***"
   ]
  },
  {
   "cell_type": "markdown",
   "metadata": {},
   "source": [
    "**Question-01**"
   ]
  },
  {
   "cell_type": "code",
   "execution_count": 24,
   "metadata": {},
   "outputs": [
    {
     "name": "stdout",
     "output_type": "stream",
     "text": [
      "Number of monsters alive:3\n",
      "1--------------------------------\n",
      "Name: Godzilla\n",
      "Power: 40\n",
      "Alive: True\n",
      "2--------------------------------\n",
      "Name: Hydra\n",
      "Power: 30\n",
      "Alive: True\n",
      "3--------------------------------\n",
      "Name: KingKong\n",
      "Power: 50\n",
      "Alive: True\n",
      "4--------------------------------\n",
      "No monsters to attack\n",
      "5--------------------------------\n",
      "Attack successful. Godzilla defeated Hydra.\n",
      "6--------------------------------\n",
      "Cannot attack Hydra. It's not alive.\n",
      "Attack Unsuccessful. Godzilla was defeated by KingKong.\n",
      "7--------------------------------\n",
      "Number of monsters alive:1\n",
      "8--------------------------------\n",
      "Name: Hydra\n",
      "Power: 30\n",
      "Alive: False\n",
      "9--------------------------------\n",
      "Hydra is not alive to attack.\n"
     ]
    }
   ],
   "source": [
    "class Monster:\n",
    "    monsterCount = 0\n",
    "    def __init__(self , name , power) :\n",
    "        self.name = name\n",
    "        self.power= power\n",
    "        self.status = True\n",
    "        Monster.monsterCount += 1\n",
    "    def get_details(self) :\n",
    "        return (f\"Name: {self.name}\\nPower: {self.power}\\nAlive: {self.status}\")\n",
    "    def attack(self, *args) :\n",
    "        if len(args) == 0 :\n",
    "            print(\"No monsters to attack\")\n",
    "        else :\n",
    "            if self.status == True :\n",
    "                for index in args :\n",
    "                    if index.status == True :\n",
    "                        if index.power < self.power :\n",
    "                            index.status = False\n",
    "                            print(f\"Attack successful. {self.name} defeated {index.name}.\")\n",
    "                            Monster.monsterCount -= 1\n",
    "                        else :\n",
    "                            self.status == False\n",
    "                            print(f\"Attack Unsuccessful. {self.name} was defeated by {index.name}.\")\n",
    "                            Monster.monsterCount -= 1\n",
    "                    else:\n",
    "                        print(f\"Cannot attack {index.name}. It's not alive.\")\n",
    "            else:\n",
    "                print(f\"{self.name} is not alive to attack.\")\n",
    "                    \n",
    "# Driver Code\n",
    "monster1 = Monster('Godzilla', 40) \n",
    "monster2 = Monster('Hydra', 30) \n",
    "monster3 = Monster('KingKong', 50) \n",
    "print(f\"Number of monsters alive:{Monster.monsterCount}\")\n",
    "print('1--------------------------------')\n",
    "print(monster1.get_details()) \n",
    "print('2--------------------------------') \n",
    "print(monster2.get_details()) \n",
    "print('3--------------------------------') \n",
    "print(monster3.get_details()) \n",
    "print('4--------------------------------')\n",
    "monster1.attack() \n",
    "print('5--------------------------------') \n",
    "monster1.attack(monster2) \n",
    "print('6--------------------------------') \n",
    "monster1.attack(monster2, monster3) \n",
    "print('7--------------------------------') \n",
    "print(f\"Number of monsters alive:{Monster.monsterCount}\") \n",
    "print('8--------------------------------') \n",
    "print(monster2.get_details()) \n",
    "print('9--------------------------------') \n",
    "monster2.attack(monster1)"
   ]
  }
 ],
 "metadata": {
  "kernelspec": {
   "display_name": "Python 3",
   "language": "python",
   "name": "python3"
  },
  "language_info": {
   "codemirror_mode": {
    "name": "ipython",
    "version": 3
   },
   "file_extension": ".py",
   "mimetype": "text/x-python",
   "name": "python",
   "nbconvert_exporter": "python",
   "pygments_lexer": "ipython3",
   "version": "3.12.3"
  }
 },
 "nbformat": 4,
 "nbformat_minor": 2
}
