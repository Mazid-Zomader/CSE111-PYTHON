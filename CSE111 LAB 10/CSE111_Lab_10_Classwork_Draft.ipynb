{
 "cells": [
  {
   "cell_type": "markdown",
   "metadata": {},
   "source": [
    "**Task - 01**"
   ]
  },
  {
   "cell_type": "code",
   "execution_count": 15,
   "metadata": {},
   "outputs": [
    {
     "name": "stdout",
     "output_type": "stream",
     "text": [
      "Name: default Department: BBA\n",
      "Name: Humpty Dumpty Department: BBA\n",
      "Name: Little Bo Peep Department: BBA\n"
     ]
    }
   ],
   "source": [
    "class Student:\n",
    "    def __init__(self, name='Just a student', dept='nothing'):\n",
    "        self.__name = name\n",
    "        self.__department = dept\n",
    "    def set_department(self, dept):\n",
    "        self.__department = dept\n",
    "    def get_name(self):\n",
    "        return self.__name\n",
    "    def set_name(self,name):\n",
    "        self.__name = name\n",
    "    def detail(self):\n",
    "        return 'Name: '+self.__name+' Department: '+self.__department\n",
    "class BBA_Student ( Student ) :\n",
    "    def __init__ (self , name = 'default' , dept = 'BBA') :\n",
    "        super().__init__(name , dept)\n",
    "\n",
    "#write your code here\n",
    "\n",
    "print(BBA_Student().detail())\n",
    "print(BBA_Student('Humpty Dumpty').detail())\n",
    "print(BBA_Student('Little Bo Peep').detail())"
   ]
  },
  {
   "cell_type": "markdown",
   "metadata": {},
   "source": [
    "**Task - 02**"
   ]
  },
  {
   "cell_type": "code",
   "execution_count": 10,
   "metadata": {},
   "outputs": [
    {
     "name": "stdout",
     "output_type": "stream",
     "text": [
      "Part 1\n",
      "------\n",
      "(0 , 0)\n",
      "(0 , 1)\n",
      "(-1 , 1)\n",
      "(-1 , 0)\n",
      "(0 , 0)\n",
      "------\n",
      "Part 2\n",
      "------\n",
      "(0 , 0)\n",
      "(-1 , -1)\n",
      "False\n",
      "True\n"
     ]
    }
   ],
   "source": [
    "class Vehicle:\n",
    "    def __init__(self):\n",
    "        self.x = 0\n",
    "        self.y = 0\n",
    "    def moveUp(self):\n",
    "        self.y += 1\n",
    "    def moveDown(self):\n",
    "        self.y -= 1\n",
    "    def moveRight(self):\n",
    "        self.x += 1\n",
    "    def moveLeft(self):\n",
    "        self.x -= 1\n",
    "    def detail(self):\n",
    "        return '('+str(self.x)+' , '+str(self.y)+')'\n",
    "class Vehicle2010 ( Vehicle ) :\n",
    "    def __init__(self) :\n",
    "        super().__init__()\n",
    "    def equals(self , comp) :\n",
    "        flag = True\n",
    "        if self.x == comp.x :\n",
    "            if self.y == comp.y :\n",
    "                pass\n",
    "            else :\n",
    "                flag = False\n",
    "        else :\n",
    "            flag = False\n",
    "        return flag\n",
    "    def moveUpperRight (self) :\n",
    "        super().moveUp()\n",
    "        super().moveRight()\n",
    "    def moveLowerRight (self) :\n",
    "        super().moveDown()\n",
    "        super().moveRight()\n",
    "    def moveUpperLeft (self) :\n",
    "        super().moveUp()\n",
    "        super().moveLeft()\n",
    "    def moveLowerLeft (self) :\n",
    "        super().moveDown()\n",
    "        super().moveLeft()\n",
    "\n",
    "#write your code here\n",
    "\n",
    "print('Part 1')\n",
    "print('------')\n",
    "car = Vehicle()\n",
    "print(car.detail())\n",
    "car.moveUp()\n",
    "print(car.detail())\n",
    "car.moveLeft()\n",
    "print(car.detail())\n",
    "car.moveDown()\n",
    "print(car.detail())\n",
    "car.moveRight()\n",
    "print(car.detail())\n",
    "print('------')\n",
    "print('Part 2')\n",
    "print('------')\n",
    "car1 = Vehicle2010()\n",
    "print(car1.detail())\n",
    "car1.moveLowerLeft()\n",
    "print(car1.detail())\n",
    "car2 = Vehicle2010()\n",
    "car2.moveLeft()\n",
    "print(car1.equals(car2))\n",
    "car2.moveDown()\n",
    "print(car1.equals(car2))"
   ]
  },
  {
   "cell_type": "markdown",
   "metadata": {},
   "source": [
    "**Task - 03**"
   ]
  },
  {
   "cell_type": "code",
   "execution_count": 11,
   "metadata": {},
   "outputs": [
    {
     "name": "stdout",
     "output_type": "stream",
     "text": [
      "Cricket Tournament Name: Default\n",
      "Number of Teams: 0\n",
      "Type: No type\n",
      "-----------------------\n",
      "Cricket Tournament Name: IPL\n",
      "Number of Teams: 10\n",
      "Type: t20\n",
      "-----------------------\n",
      "Cricket Tournament Name: Roland Garros\n",
      "Number of Players: 128\n"
     ]
    }
   ],
   "source": [
    "class Tournament:\n",
    "    def __init__(self,name='Default'):\n",
    "        self.__name = name\n",
    "    def set_name(self,name):\n",
    "        self.__name = name\n",
    "    def get_name(self):\n",
    "        return self.__name\n",
    "class Cricket_Tournament( Tournament) :\n",
    "    def __init__(self, name = 'Default', Team = 0 , type = 'No type') :\n",
    "        super().__init__(name)\n",
    "        self.team = Team\n",
    "        self.type = type\n",
    "    def detail (self) :\n",
    "        return f\"Cricket Tournament Name: {super().get_name()}\\nNumber of Teams: {self.team}\\nType: {self.type}\"\n",
    "class Tennis_Tournament( Tournament) :\n",
    "    def __init__(self, name = 'Default', players = 0 ) :\n",
    "        super().__init__(name)\n",
    "        self.no_of_players = players\n",
    "    def detail (self) :\n",
    "        return f\"Cricket Tournament Name: {super().get_name()}\\nNumber of Players: {self.no_of_players}\"\n",
    "#write your code here\n",
    "\n",
    "ct1 = Cricket_Tournament()\n",
    "print(ct1.detail())\n",
    "print(\"-----------------------\")\n",
    "ct2 = Cricket_Tournament(\"IPL\",10,\"t20\")\n",
    "print(ct2.detail())\n",
    "print(\"-----------------------\")\n",
    "tt = Tennis_Tournament(\"Roland Garros\",128)\n",
    "print(tt.detail())\n"
   ]
  },
  {
   "cell_type": "markdown",
   "metadata": {},
   "source": [
    "**Task - 04**"
   ]
  },
  {
   "cell_type": "code",
   "execution_count": 13,
   "metadata": {},
   "outputs": [
    {
     "name": "stdout",
     "output_type": "stream",
     "text": [
      "ID: 1 Title: The Alchemist Price: 500\n",
      "ISBN: 97806 Publisher: HarperCollins\n",
      "-----------------------\n",
      "ID: 2 Title: Shotto Price: 300\n",
      "Band: Warfaze Duration: 50 \n",
      "Genre: Hard Rock\n"
     ]
    }
   ],
   "source": [
    "class Product:\n",
    "    def __init__(self,id, title, price):\n",
    "        self.__id = id\n",
    "        self.__title = title\n",
    "        self.__price = price\n",
    "    def get_id_title_price(self):\n",
    "        return \"ID: \"+str(self.__id)+\" Title: \"+self.__title+        \" Price: \"+str(self.__price)\n",
    "class Book ( Product ) :\n",
    "    def __init__(self, id , title, price , isbn , publisher) :\n",
    "        super().__init__(id, title,price)\n",
    "        self.isbn = isbn\n",
    "        self.publisher = publisher\n",
    "    def printDetail(self) :\n",
    "        print (super().get_id_title_price())\n",
    "        return f\"ISBN: {self.isbn} Publisher: {self.publisher}\"\n",
    "\n",
    "class CD ( Product ) :\n",
    "    def __init__(self, id , title, price , band , duration , genre) :\n",
    "        super().__init__(id, title,price)\n",
    "        self.band = band\n",
    "        self.duration = duration\n",
    "        self.genre = genre\n",
    "    def printDetail(self) :\n",
    "        print (super().get_id_title_price())\n",
    "        return f\"Band: {self.band} Duration: {self.duration} \\nGenre: {self.genre}\"\n",
    "#write your code here\n",
    "\n",
    "book = Book(1,\"The Alchemist\",500,\"97806\",\"HarperCollins\")\n",
    "print(book.printDetail())\n",
    "print(\"-----------------------\")\n",
    "cd = CD(2,\"Shotto\",300,\"Warfaze\",50,\"Hard Rock\")\n",
    "print(cd.printDetail())\n"
   ]
  },
  {
   "cell_type": "markdown",
   "metadata": {},
   "source": [
    "**Task - 05**"
   ]
  },
  {
   "cell_type": "code",
   "execution_count": 2,
   "metadata": {},
   "outputs": [
    {
     "name": "stdout",
     "output_type": "stream",
     "text": [
      "Animal does not make sound\n",
      "meow\n",
      "bark\n"
     ]
    }
   ],
   "source": [
    "class Animal:   \n",
    "    def __init__(self,sound):\n",
    "        self.__sound = sound\n",
    "        \n",
    "    def makeSound(self):\n",
    "        return self.__sound\n",
    "        \n",
    "\n",
    "\n",
    "class Printer:   \n",
    "    def printSound(self, a):\n",
    "        print(a.makeSound())\n",
    "\n",
    "class Dog (Animal) :\n",
    "    def __init__ (self , sound) :\n",
    "        super().__init__(sound)\n",
    "class Cat (Animal) :\n",
    "    pass\n",
    "#write your code here\n",
    "\n",
    "d1 = Dog('bark')\n",
    "c1 = Cat('meow')\n",
    "a1 = Animal('Animal does not make sound')\n",
    "pr = Printer()\n",
    "pr.printSound(a1)\n",
    "pr.printSound(c1)\n",
    "pr.printSound(d1)"
   ]
  }
 ],
 "metadata": {
  "kernelspec": {
   "display_name": "Python 3",
   "language": "python",
   "name": "python3"
  },
  "language_info": {
   "codemirror_mode": {
    "name": "ipython",
    "version": 3
   },
   "file_extension": ".py",
   "mimetype": "text/x-python",
   "name": "python",
   "nbconvert_exporter": "python",
   "pygments_lexer": "ipython3",
   "version": "3.12.3"
  }
 },
 "nbformat": 4,
 "nbformat_minor": 2
}
