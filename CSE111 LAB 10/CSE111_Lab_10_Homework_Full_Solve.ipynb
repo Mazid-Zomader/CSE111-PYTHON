{
  "cells": [
    {
      "cell_type": "markdown",
      "metadata": {},
      "source": [
        "**Task-01**"
      ]
    },
    {
      "cell_type": "code",
      "execution_count": 1,
      "metadata": {
        "colab": {
          "base_uri": "https://localhost:8080/"
        },
        "id": "ladVI6nQ6gib",
        "outputId": "6767eded-c300-4aa6-aa5d-057b3f52dde6"
      },
      "outputs": [
        {
          "name": "stdout",
          "output_type": "stream",
          "text": [
            "Shape name: Default\n",
            "Height: 0, Base: 0\n",
            "Area: 0.0\n",
            "--------------------------\n",
            "Shape name: Triangle\n",
            "Height: 10, Base: 5\n",
            "Area: 25.0\n",
            "---------------------------\n",
            "Shape name: Trapezoid\n",
            "Height: 10, Base: 6, Side_A: 4\n",
            "Area: 50.0\n"
          ]
        }
      ],
      "source": [
        "class Shape:\n",
        "\n",
        "  def __init__(self, name='Default', height=0, base=0):\n",
        "    self.area = 0\n",
        "    self.name = name\n",
        "    self.height = height\n",
        "    self.base = base\n",
        "\n",
        "  def get_height_base(self):\n",
        "    return \"Height: \"+str(self.height)+\", Base: \"+str(self.base)\n",
        "class triangle (Shape) :\n",
        "    def __init__(self,name='Default', height=0, base=0) :\n",
        "        super().__init__(name, height, base)\n",
        "    def calcArea(self) :\n",
        "        self.area = 0.5*self.base*self.height\n",
        "    def printDetail(self) :\n",
        "        print(f\"Shape name: {self.name}\")\n",
        "        print(super().get_height_base())\n",
        "        return f\"Area: {self.area}\"\n",
        "class trapezoid (Shape) :\n",
        "    def __init__(self,name, height, base , side) :\n",
        "        super().__init__(name, height, base)\n",
        "        self.side = side\n",
        "    def calcArea(self) :\n",
        "        self.area = 0.5*(self.base+self.side)*self.height\n",
        "    def printDetail(self) :\n",
        "        print(f\"Shape name: {self.name}\")\n",
        "        print(super().get_height_base()+\", \"+\"Side_A:\",self.side)\n",
        "        return f\"Area: {self.area}\"\n",
        "\n",
        "#write your code here\n",
        "\n",
        "tri_default = triangle()\n",
        "tri_default.calcArea()\n",
        "print(tri_default.printDetail())\n",
        "print('--------------------------')\n",
        "tri = triangle('Triangle', 10, 5)\n",
        "tri.calcArea()\n",
        "print(tri.printDetail())\n",
        "print('---------------------------')\n",
        "trap = trapezoid('Trapezoid', 10, 6, 4)\n",
        "trap.calcArea()\n",
        "print(trap.printDetail())\n"
      ]
    },
    {
      "cell_type": "markdown",
      "metadata": {},
      "source": [
        "**Task-02**"
      ]
    },
    {
      "cell_type": "code",
      "execution_count": 2,
      "metadata": {
        "colab": {
          "base_uri": "https://localhost:8080/",
          "height": 297
        },
        "id": "srff0bUA-Zr0",
        "outputId": "083d3a0a-9de8-48f4-c5e1-6305b7728f31"
      },
      "outputs": [
        {
          "name": "stdout",
          "output_type": "stream",
          "text": [
            "Name: Ronaldo, Team Name: Al-Nassr\n",
            "Team Role: Striker\n",
            "TotalGoal: 25, Total Played: 32\n",
            "Goal Ratio: 0.78125\n",
            "Match Earning: 25320k\n",
            "------------------------------------------\n",
            "Name: Zidane, Team Name: Real Madrid\n",
            "Team Role: Manager\n",
            "Total Win: 25\n",
            "Match Earning: 25000k\n"
          ]
        }
      ],
      "source": [
        "class SportsPerson:\n",
        "\n",
        "  def __init__(self, team_name, name, role):\n",
        "    self.__team = team_name\n",
        "    self.__name = name\n",
        "    self.role = role\n",
        "    self.earning_per_match = 0\n",
        "\n",
        "  def get_name_team(self):\n",
        "    return 'Name: '+self.__name+', Team Name: ' +self.__team\n",
        "class Player(SportsPerson) :\n",
        "    def __init__(self,team_name , name , role, goal , matches) :\n",
        "        super().__init__(team_name, name, role)\n",
        "        self.goals = goal\n",
        "        self.matches = matches\n",
        "        self.earning_per_match = (self.goals*1000) + (self.matches*10)\n",
        "    def calculate_ratio(self) :\n",
        "        return f\"Goal Ratio: {self.goals/self.matches}\"\n",
        "    def print_details(self) :\n",
        "        print(super().get_name_team())\n",
        "        print(f\"Team Role: {self.role}\\nTotalGoal: {self.goals}, Total Played: {self.matches}\")\n",
        "        print(self.calculate_ratio())\n",
        "        print(f\"Match Earning: {self.earning_per_match}k\")\n",
        "class Manager (SportsPerson) :\n",
        "    def __init__(self, name , player , role , wins) :\n",
        "       super().__init__(name , player , role)\n",
        "       self.win = wins\n",
        "       self.earning_per_match = wins*1000\n",
        "    def print_details(self) :\n",
        "       print(super().get_name_team())\n",
        "       print(f\"Team Role: {self.role}\\nTotal Win: {self.win}\\nMatch Earning: {self.earning_per_match}k\")\n",
        "\n",
        "#write your code here\n",
        "\n",
        "player_one = Player('Al-Nassr', 'Ronaldo', 'Striker', 25, 32)\n",
        "player_one.calculate_ratio()\n",
        "player_one.print_details()\n",
        "print('------------------------------------------')\n",
        "manager_one = Manager('Real Madrid', 'Zidane', 'Manager', 25)\n",
        "manager_one.print_details()"
      ]
    },
    {
      "cell_type": "markdown",
      "metadata": {},
      "source": [
        "**Task-03**"
      ]
    },
    {
      "cell_type": "code",
      "execution_count": 3,
      "metadata": {
        "id": "c0l4Q7z_YpL1",
        "outputId": "ceda92b1-7aea-44f2-d682-e052c530f0b3"
      },
      "outputs": [
        {
          "name": "stdout",
          "output_type": "stream",
          "text": [
            "-----------------1-----------------\n",
            "Name: KK Regular Tea, Weight: 100\n",
            "Tea Bags: 50, Price: 250\n",
            "Status: False\n",
            "-----------------2-----------------\n",
            "Total sales: {'KK Regular Tea': 0}\n",
            "-----------------3-----------------\n",
            "-----------------4-----------------\n",
            "Name: KK Regular Tea, Weight: 150\n",
            "Tea Bags: 75, Price: 360\n",
            "Status: True\n",
            "-----------------5-----------------\n",
            "Total sales: {'KK Regular Tea': 3}\n",
            "-----------------6-----------------\n",
            "-----------------7-----------------\n",
            "Name: KK Jasmine Tea, Weight: 100\n",
            "Tea Bags: 50, Price: 260\n",
            "Status: False\n",
            "-----------------8-----------------\n",
            "Name: KK Honey Lemon Tea, Weight: 90\n",
            "Tea Bags: 45, Price: 270\n",
            "Status: False\n",
            "-----------------9-----------------\n",
            "-----------------10-----------------\n",
            "Total sales: {'KK Regular Tea': 3, 'KK Jasmine Tea': 1, 'KK Honey Lemon Tea': 2}\n"
          ]
        }
      ],
      "source": [
        "class KK_tea :\n",
        "    total_sale = {}\n",
        "    def __init__(self , price , teabags = 50, name = 'Regular') :\n",
        "        self.price  = price\n",
        "        self.teabags = teabags\n",
        "        self.name = f\"KK {name} Tea\"\n",
        "        self.status = False\n",
        "        if self.name not in KK_tea.total_sale.keys():\n",
        "            KK_tea.total_sale[self.name] = 0\n",
        "        else :\n",
        "            pass\n",
        "    def product_detail(self) :\n",
        "        print(f\"Name: {self.name}, Weight: {self.teabags*2}\\nTea Bags: {self.teabags}, Price: {self.price}\\nStatus: {self.status}\")\n",
        "    @classmethod\n",
        "    def total_sales(cls) :\n",
        "        print (f\"Total sales: {cls.total_sale}\")\n",
        "    def update_sold_status_regular(*args) :\n",
        "        for index in range(len(args)) :\n",
        "            args[index].status = True\n",
        "            KK_tea.total_sale[args[index].name] += 1\n",
        "class KK_flavoured_tea(KK_tea) :\n",
        "    def __init__(self, name , price, teabags) :\n",
        "        super().__init__(price, teabags, name)\n",
        "    def update_sold_status_flavoured(*args) :\n",
        "        for index in range(len(args)) :\n",
        "            args[index].status = True\n",
        "            KK_tea.total_sale[args[index].name] += 1\n",
        "\n",
        "# Driver Code\n",
        "t1 = KK_tea(250)\n",
        "print(\"-----------------1-----------------\")\n",
        "t1.product_detail()\n",
        "print(\"-----------------2-----------------\")\n",
        "KK_tea.total_sales()\n",
        "print(\"-----------------3-----------------\")\n",
        "t2 = KK_tea(470, 100)\n",
        "t3 = KK_tea(360, 75)\n",
        "KK_tea.update_sold_status_regular(t1, t2, t3)\n",
        "print(\"-----------------4-----------------\")\n",
        "t3.product_detail()\n",
        "print(\"-----------------5-----------------\")\n",
        "KK_tea.total_sales()\n",
        "print(\"-----------------6-----------------\")\n",
        "t4 = KK_flavoured_tea(\"Jasmine\", 260, 50)\n",
        "t5 = KK_flavoured_tea(\"Honey Lemon\", 270, 45)\n",
        "t6 = KK_flavoured_tea(\"Honey Lemon\", 270, 45)\n",
        "print(\"-----------------7-----------------\")\n",
        "t4.product_detail()\n",
        "print(\"-----------------8-----------------\")\n",
        "t6.product_detail()\n",
        "print(\"-----------------9-----------------\")\n",
        "KK_flavoured_tea.update_sold_status_flavoured(t4,t5, t6)\n",
        "print(\"-----------------10-----------------\")\n",
        "KK_tea.total_sales()"
      ]
    },
    {
      "cell_type": "markdown",
      "metadata": {},
      "source": [
        "**Task-04**"
      ]
    },
    {
      "cell_type": "code",
      "execution_count": 11,
      "metadata": {},
      "outputs": [
        {
          "name": "stdout",
          "output_type": "stream",
          "text": [
            "===============\n",
            "9i + 21j\n",
            "===============\n",
            "===============\n",
            "14i + 17j -2k\n",
            "===============\n",
            "42i + 51j -6k\n",
            "===============\n",
            "66.34003316248794\n"
          ]
        }
      ],
      "source": [
        "class TwoDVector:\n",
        "    def __init__(self, x, y): \n",
        "        self.x = x\n",
        "        self.y = y\n",
        "    def add2DVectors(self, *vectors):\n",
        "        for i in vectors:\n",
        "            self.x += i.x\n",
        "            self.y += i.y\n",
        "    def print2DVector(self):\n",
        "        if self.y >= 0:\n",
        "            y = \"+ \"+str(self.y)    \n",
        "        else:\n",
        "            y = str(self.y)\n",
        "        print(f\"{self.x}i {y}j\")\n",
        "class ThreeDVector (TwoDVector) :\n",
        "    def __init__(self, x, y, z) :\n",
        "        super().__init__(x , y) \n",
        "        self.z = z\n",
        "    def add3DVectors(self, *vectors) :\n",
        "        super().add2DVectors(vectors[0], vectors[1])\n",
        "        for index in range(len(vectors)) :\n",
        "            self.z += vectors[index].z\n",
        "    def print3DVector(self) :\n",
        "        # I can't use print2DVector method here from TwoDVector because of a print statement present there\n",
        "        if self.y >= 0:\n",
        "            y = \"+ \"+str(self.y)    \n",
        "        else:\n",
        "            y = str(self.y)\n",
        "        if self.z >= 0:\n",
        "            z = \"+ \"+str(self.z)    \n",
        "        else:\n",
        "            z = str(self.z)\n",
        "        print(f\"{self.x}i {y}j {z}k\")\n",
        "    def multiplyScalar (self , num) :\n",
        "        self.x *= num\n",
        "        self.y *= num\n",
        "        self.z *= num\n",
        "    def calculateLength(self) :\n",
        "        return((self.x**2 + self.y**2 + self.z**2)**0.5)\n",
        "TwoDV1 = TwoDVector(5, 6)\n",
        "TwoDV2 = TwoDVector(3, 7)\n",
        "TwoDV3 = TwoDVector(1, 8)\n",
        "print(\"===============\")\n",
        "TwoDV1.add2DVectors(TwoDV2, TwoDV3)\n",
        "TwoDV1.print2DVector()\n",
        "print(\"===============\")\n",
        "ThreeDV1 = ThreeDVector(5, 6, 1)\n",
        "ThreeDV2 = ThreeDVector(1, 9, -7)\n",
        "ThreeDV3 = ThreeDVector(8, 2, 4)\n",
        "print(\"===============\")\n",
        "ThreeDV1.add3DVectors(ThreeDV2,ThreeDV3)\n",
        "ThreeDV1.print3DVector()\n",
        "print(\"===============\")\n",
        "ThreeDV1.multiplyScalar(3)\n",
        "ThreeDV1.print3DVector()\n",
        "print(\"===============\")\n",
        "print(ThreeDV1.calculateLength())\n"
      ]
    }
  ],
  "metadata": {
    "colab": {
      "provenance": []
    },
    "kernelspec": {
      "display_name": "Python 3",
      "name": "python3"
    },
    "language_info": {
      "codemirror_mode": {
        "name": "ipython",
        "version": 3
      },
      "file_extension": ".py",
      "mimetype": "text/x-python",
      "name": "python",
      "nbconvert_exporter": "python",
      "pygments_lexer": "ipython3",
      "version": "3.12.3"
    }
  },
  "nbformat": 4,
  "nbformat_minor": 0
}
